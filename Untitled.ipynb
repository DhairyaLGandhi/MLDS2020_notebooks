{
 "cells": [
  {
   "cell_type": "code",
   "execution_count": 1,
   "metadata": {},
   "outputs": [
    {
     "data": {
      "text/plain": [
       "\"/home/dhairyagandhi96/mlds\""
      ]
     },
     "execution_count": 1,
     "metadata": {},
     "output_type": "execute_result"
    }
   ],
   "source": [
    "pwd()"
   ]
  },
  {
   "cell_type": "code",
   "execution_count": 3,
   "metadata": {},
   "outputs": [
    {
     "name": "stderr",
     "output_type": "stream",
     "text": [
      "\u001b[32m\u001b[1mActivating\u001b[22m\u001b[39m new environment at `~/mlds/trebuchet/Project.toml`\n"
     ]
    }
   ],
   "source": [
    "]activate trebuchet"
   ]
  },
  {
   "cell_type": "code",
   "execution_count": null,
   "metadata": {},
   "outputs": [],
   "source": [
    "using Flux, Trebuchet\n",
    "using Flux.Tracker: forwarddiff\n",
    "using Statistics: mean\n",
    "using Random"
   ]
  },
  {
   "cell_type": "code",
   "execution_count": null,
   "metadata": {},
   "outputs": [
    {
     "name": "stderr",
     "output_type": "stream",
     "text": [
      "┌ Info: Precompiling Flux [587475ba-b771-5e3f-ad9e-33799f191a9c]\n",
      "└ @ Base loading.jl:1253\n",
      "┌ Info: Precompiling Trebuchet [98b73d46-197d-11e9-11eb-69a6ff759d3a]\n",
      "└ @ Base loading.jl:1253\n"
     ]
    },
    {
     "data": {
      "text/html": [
       "<script>\n",
       "// Immediately-invoked-function-expression to avoid global variables.\n",
       "(function() {\n",
       "    var warning_div = document.getElementById(\"webio-warning-17485758690480693726\");\n",
       "    var hide = function () {\n",
       "        var script = document.getElementById(\"webio-setup-5147864367380118009\");\n",
       "        var parent = script && script.parentElement;\n",
       "        var grandparent = parent && parent.parentElement;\n",
       "        if (grandparent) {\n",
       "            grandparent.style.display = \"none\";\n",
       "        }\n",
       "        warning_div.style.display = \"none\";\n",
       "    };\n",
       "    if (typeof Jupyter !== \"undefined\") {\n",
       "        console.log(\"WebIO detected Jupyter notebook environment.\");\n",
       "        // Jupyter notebook.\n",
       "        var extensions = (\n",
       "            Jupyter\n",
       "            && Jupyter.notebook.config.data\n",
       "            && Jupyter.notebook.config.data.load_extensions\n",
       "        );\n",
       "        if (extensions && extensions[\"webio-jupyter-notebook\"]) {\n",
       "            // Extension already loaded.\n",
       "            console.log(\"Jupyter WebIO nbextension detected; not loading ad-hoc.\");\n",
       "            hide();\n",
       "            return;\n",
       "        }\n",
       "    } else if (window.location.pathname.includes(\"/lab\")) {\n",
       "        // Guessing JupyterLa\n",
       "        console.log(\"Jupyter Lab detected; make sure the @webio/jupyter-lab-provider labextension is installed.\");\n",
       "        hide();\n",
       "        return;\n",
       "    }\n",
       "})();\n",
       "\n",
       "</script>\n",
       "<p\n",
       "    id=\"webio-warning-17485758690480693726\"\n",
       "    class=\"output_text output_stderr\"\n",
       "    style=\"padding: 1em; font-weight: bold;\"\n",
       ">\n",
       "    Unable to load WebIO. Please make sure WebIO works for your Jupyter client.\n",
       "    For troubleshooting, please see <a href=\"https://juliagizmos.github.io/WebIO.jl/latest/providers/ijulia/\">\n",
       "    the WebIO/IJulia documentation</a>.\n",
       "    <!-- TODO: link to installation docs. -->\n",
       "</p>\n"
      ],
      "text/plain": [
       "HTML{String}(\"<script>\\n// Immediately-invoked-function-expression to avoid global variables.\\n(function() {\\n    var warning_div = document.getElementById(\\\"webio-warning-17485758690480693726\\\");\\n    var hide = function () {\\n        var script = document.getElementById(\\\"webio-setup-5147864367380118009\\\");\\n        var parent = script && script.parentElement;\\n        var grandparent = parent && parent.parentElement;\\n        if (grandparent) {\\n            grandparent.style.display = \\\"none\\\";\\n        }\\n        warning_div.style.display = \\\"none\\\";\\n    };\\n    if (typeof Jupyter !== \\\"undefined\\\") {\\n        console.log(\\\"WebIO detected Jupyter notebook environment.\\\");\\n        // Jupyter notebook.\\n        var extensions = (\\n            Jupyter\\n            && Jupyter.notebook.config.data\\n            && Jupyter.notebook.config.data.load_extensions\\n        );\\n        if (extensions && extensions[\\\"webio-jupyter-notebook\\\"]) {\\n            // Extension already loaded.\\n            console.log(\\\"Jupyter WebIO nbextension detected; not loading ad-hoc.\\\");\\n            hide();\\n            return;\\n        }\\n    } else if (window.location.pathname.includes(\\\"/lab\\\")) {\\n        // Guessing JupyterLa\\n        console.log(\\\"Jupyter Lab detected; make sure the @webio/jupyter-lab-provider labextension is installed.\\\");\\n        hide();\\n        return;\\n    }\\n})();\\n\\n</script>\\n<p\\n    id=\\\"webio-warning-17485758690480693726\\\"\\n    class=\\\"output_text output_stderr\\\"\\n    style=\\\"padding: 1em; font-weight: bold;\\\"\\n>\\n    Unable to load WebIO. Please make sure WebIO works for your Jupyter client.\\n    For troubleshooting, please see <a href=\\\"https://juliagizmos.github.io/WebIO.jl/latest/providers/ijulia/\\\">\\n    the WebIO/IJulia documentation</a>.\\n    <!-- TODO: link to installation docs. -->\\n</p>\\n\")"
      ]
     },
     "metadata": {},
     "output_type": "display_data"
    },
    {
     "name": "stdout",
     "output_type": "stream",
     "text": [
      "meanloss() = 27.00683837248852 (tracked)\n",
      "meanloss() = 9.533045063930972 (tracked)\n",
      "meanloss() = 6.242706028270502 (tracked)\n",
      "meanloss() = 6.600560469461303 (tracked)\n",
      "meanloss() = 4.565990151848289 (tracked)\n",
      "meanloss() = 4.282564544071529 (tracked)\n",
      "meanloss() = 3.460726478287951 (tracked)\n",
      "meanloss() = 3.341922007959316 (tracked)\n",
      "meanloss() = 2.885871559366818 (tracked)\n",
      "meanloss() = 3.5685965436500764 (tracked)\n",
      "meanloss() = 3.066142606116369 (tracked)\n",
      "meanloss() = 2.4349598858632255 (tracked)\n",
      "meanloss() = 1.9254983472083205 (tracked)\n",
      "meanloss() = 3.000159059144355 (tracked)\n",
      "meanloss() = 3.218610519342607 (tracked)\n",
      "meanloss() = 2.670211786184116 (tracked)\n",
      "meanloss() = 1.863021599252809 (tracked)\n",
      "meanloss() = 4.046004945805053 (tracked)\n",
      "meanloss() = 2.417359498050371 (tracked)\n",
      "meanloss() = 2.242085028801141 (tracked)\n",
      "meanloss() = 2.312491398038731 (tracked)\n",
      "meanloss() = 2.380219145444064 (tracked)\n",
      "meanloss() = 1.740734654475918 (tracked)\n",
      "meanloss() = 2.4185039736590825 (tracked)\n",
      "meanloss() = 2.306944729294082 (tracked)\n",
      "meanloss() = 2.327872910166189 (tracked)\n",
      "meanloss() = 2.4433514369593095 (tracked)\n",
      "meanloss() = 2.9265617941522204 (tracked)\n",
      "meanloss() = 2.685598124787435 (tracked)\n",
      "meanloss() = 2.3173434038771323 (tracked)\n",
      "meanloss() = 2.7619524161902405 (tracked)\n",
      "meanloss() = 3.2952061303281788 (tracked)\n",
      "meanloss() = 2.003317873112124 (tracked)\n",
      "meanloss() = 2.2969291879744036 (tracked)\n",
      "meanloss() = 2.084300937044653 (tracked)\n",
      "meanloss() = 2.7028365358997104 (tracked)\n",
      "meanloss() = 2.956730035695618 (tracked)\n",
      "meanloss() = 2.109813513594604 (tracked)\n",
      "meanloss() = 2.218576563396364 (tracked)\n",
      "meanloss() = 2.4415250558005863 (tracked)\n",
      "meanloss() = 2.0362911559482884 (tracked)\n",
      "meanloss() = 2.834566070108083 (tracked)\n",
      "meanloss() = 2.6027102546344167 (tracked)\n",
      "meanloss() = 2.6207777281680387 (tracked)\n",
      "meanloss() = 3.7934276190558025 (tracked)\n",
      "meanloss() = 2.754891781675557 (tracked)\n",
      "meanloss() = 1.5448721232850255 (tracked)\n",
      "meanloss() = 2.7369815109584605 (tracked)\n",
      "meanloss() = 2.2785806066760674 (tracked)\n",
      "meanloss() = 2.9448010735559023 (tracked)\n",
      "meanloss() = 3.5456424512129985 (tracked)\n",
      "meanloss() = 2.66071924350526 (tracked)\n",
      "meanloss() = 1.7777391532921383 (tracked)\n",
      "meanloss() = 2.5491967560366406 (tracked)\n",
      "meanloss() = 2.394495139026361 (tracked)\n",
      "meanloss() = 2.7143674233522836 (tracked)\n",
      "meanloss() = 1.8298740155907165 (tracked)\n",
      "meanloss() = 1.5510803695204312 (tracked)\n",
      "meanloss() = 0.9466714225347304 (tracked)\n",
      "meanloss() = 2.688908657228461 (tracked)\n",
      "meanloss() = 2.168685161444864 (tracked)\n",
      "meanloss() = 1.6687554926931016 (tracked)\n",
      "meanloss() = 3.2637178813080743 (tracked)\n",
      "meanloss() = 2.6625233189860507 (tracked)\n",
      "meanloss() = 1.9147013627151666 (tracked)\n",
      "meanloss() = 2.7565158399403775 (tracked)\n",
      "meanloss() = 2.871566377238578 (tracked)\n",
      "meanloss() = 1.8545492590701147 (tracked)\n"
     ]
    }
   ],
   "source": [
    "lerp(x, lo, hi) = x*(hi-lo)+lo\n",
    "\n",
    "function shoot(wind, angle, weight)\n",
    "  Trebuchet.shoot((wind, Trebuchet.deg2rad(angle), weight))[2]\n",
    "end\n",
    "\n",
    "shoot(ps) = forwarddiff(p -> shoot(p...), ps)\n",
    "\n",
    "Random.seed!(0)\n",
    "\n",
    "model = Chain(Dense(2, 16, σ),\n",
    "              Dense(16, 64, σ),\n",
    "              Dense(64, 16, σ),\n",
    "              Dense(16, 2)) |> f64\n",
    "\n",
    "θ = params(model)\n",
    "\n",
    "function aim(wind, target)\n",
    "  angle, weight = model([wind, target])\n",
    "  angle = σ(angle)*90\n",
    "  weight = weight + 200\n",
    "  angle, weight\n",
    "end\n",
    "\n",
    "distance(wind, target) =\n",
    "  shoot(Tracker.collect([wind, aim(wind, target)...]))\n",
    "\n",
    "function loss(wind, target)\n",
    "  try\n",
    "    (distance(wind, target) - target)^2\n",
    "  catch e\n",
    "    # Roots.jl sometimes give convergence errors, ignore them\n",
    "    param(0)\n",
    "  end\n",
    "end\n",
    "\n",
    "DIST  = (20, 100)\t# Maximum target distance\n",
    "SPEED =   5 # Maximum wind speed\n",
    "\n",
    "target() = (randn() * SPEED, lerp(rand(), DIST...))\n",
    "\n",
    "meanloss() = mean(sqrt(loss(target()...)) for i = 1:100)\n",
    "\n",
    "opt = ADAM()\n",
    "\n",
    "dataset = (target() for i = 1:100_000)\n",
    "cb = Flux.throttle(() -> @show(meanloss()), 10)\n",
    "\n",
    "Flux.train!(loss, θ, dataset, opt, cb = cb)"
   ]
  },
  {
   "cell_type": "code",
   "execution_count": null,
   "metadata": {},
   "outputs": [],
   "source": []
  }
 ],
 "metadata": {
  "kernelspec": {
   "display_name": "master 1.3.0-DEV",
   "language": "julia",
   "name": "master-1.3"
  },
  "language_info": {
   "file_extension": ".jl",
   "mimetype": "application/julia",
   "name": "julia",
   "version": "1.4.0"
  }
 },
 "nbformat": 4,
 "nbformat_minor": 2
}
