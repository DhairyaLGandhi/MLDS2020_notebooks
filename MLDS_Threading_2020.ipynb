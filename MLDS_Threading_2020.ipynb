{
 "cells": [
  {
   "cell_type": "markdown",
   "metadata": {},
   "source": [
    "# Elegant Multithreading"
   ]
  },
  {
   "cell_type": "markdown",
   "metadata": {},
   "source": [
    "No one wants slow CSV reading, especially in a performance intensive task such as machine learning, where the amount of data and the use of compute resources is plentiful. Our state-of-the-art data ecosystem takes full advantage of the newly introduced multithreading functionality in Julia.\n",
    "\n",
    "It does so with careful consideration to ease of use, without loss of capability. The CSV.jl package exposes the threads via a simple keyword argument and is compared against the equivalent pandas library in python."
   ]
  },
  {
   "cell_type": "code",
   "execution_count": 11,
   "metadata": {},
   "outputs": [
    {
     "name": "stdout",
     "output_type": "stream",
     "text": [
      "\u001b[32m\u001b[1mActivating\u001b[22m\u001b[39m environment at `~/mlds/Project.toml`\n"
     ]
    }
   ],
   "source": [
    "]activate ."
   ]
  },
  {
   "cell_type": "code",
   "execution_count": 12,
   "metadata": {},
   "outputs": [
    {
     "data": {
      "text/plain": [
       "8"
      ]
     },
     "execution_count": 12,
     "metadata": {},
     "output_type": "execute_result"
    }
   ],
   "source": [
    "using Base.Threads\n",
    "Threads.nthreads()"
   ]
  },
  {
   "cell_type": "code",
   "execution_count": 29,
   "metadata": {},
   "outputs": [],
   "source": [
    "using CSV, BenchmarkTools\n",
    "using CSV.DataFrames"
   ]
  },
  {
   "cell_type": "markdown",
   "metadata": {},
   "source": [
    "## Benchmarking Julia CSV Reading - CSV.jl"
   ]
  },
  {
   "cell_type": "markdown",
   "metadata": {},
   "source": [
    "Real world datasets often comprise of varied forms of data, and are very heterogenous in nature, unless special care is taken to homogenise the datasets.\n",
    "\n",
    "We therefore benchmark reading of a common file type - CSV - and compare it against the state-of-the-art in python; ie pandas."
   ]
  },
  {
   "cell_type": "code",
   "execution_count": 30,
   "metadata": {},
   "outputs": [
    {
     "data": {
      "text/html": [
       "<table class=\"data-frame\"><thead><tr><th></th><th>variable</th><th>mean</th><th>min</th><th>median</th><th>max</th></tr><tr><th></th><th>Symbol</th><th>Union…</th><th>Any</th><th>Union…</th><th>Any</th></tr></thead><tbody><p>200 rows × 8 columns (omitted printing of 3 columns)</p><tr><th>1</th><td>col1</td><td>0.504951</td><td>2.45087e-5</td><td>0.508145</td><td>0.999627</td></tr><tr><th>2</th><td>col2</td><td>0.504824</td><td>0.0004</td><td>0.5117</td><td>0.9995</td></tr><tr><th>3</th><td>col3</td><td>1.54429e15</td><td>-9222739277495079109</td><td>7.11743e16</td><td>9221746770517594113</td></tr><tr><th>4</th><td>col4</td><td></td><td>1950-01-02T22:38:46</td><td></td><td>2000-12-10T06:53:17</td></tr><tr><th>5</th><td>col5</td><td></td><td>00VOeNeUrFI8oOIqfHin</td><td></td><td>zyhNFCt6GlzgwMLdwrlJ</td></tr><tr><th>6</th><td>col6</td><td></td><td>Categorical string 1</td><td></td><td>Categorical string 5</td></tr><tr><th>7</th><td>col7</td><td></td><td>01AEEir015gbhP50WAmv\"Dixp7idRQb</td><td></td><td>zzzMocd6QksZTrYEXgMc\"8KbwLTkNDH</td></tr><tr><th>8</th><td>col8</td><td>0.49722</td><td>1.00435e-5</td><td>0.494471</td><td>0.99977</td></tr><tr><th>9</th><td>col9</td><td>0.500279</td><td>0.0002</td><td>0.50215</td><td>0.9999</td></tr><tr><th>10</th><td>col10</td><td>-1.22871e15</td><td>-9218269981171391739</td><td>-1.37732e17</td><td>9221618083976482060</td></tr><tr><th>11</th><td>col11</td><td></td><td>1950-01-02T05:49:24</td><td></td><td>2000-12-26T21:30:24</td></tr><tr><th>12</th><td>col12</td><td></td><td>00wBY0khNNbNqzP46djX</td><td></td><td>zzfz4ap9Ht0mm9Fh2yKQ</td></tr><tr><th>13</th><td>col13</td><td></td><td>Categorical string 1</td><td></td><td>Categorical string 5</td></tr><tr><th>14</th><td>col14</td><td></td><td>00E4UGpVdaacbqOUebGP\"ByZaXNMB9F</td><td></td><td>zzHKALPr2wsFQzE0N7Xp\"InSbw7uFIZ</td></tr><tr><th>15</th><td>col15</td><td>0.500958</td><td>0.000270293</td><td>0.49998</td><td>0.999881</td></tr><tr><th>16</th><td>col16</td><td>0.491844</td><td>0.0001</td><td>0.4902</td><td>0.9998</td></tr><tr><th>17</th><td>col17</td><td>-1.40398e15</td><td>-9221299628197713595</td><td>-2.89616e16</td><td>9222449677491771429</td></tr><tr><th>18</th><td>col18</td><td></td><td>1950-01-11T08:45:38</td><td></td><td>2000-12-25T04:56:09</td></tr><tr><th>19</th><td>col19</td><td></td><td>006fVycM1n9wOhR3AngW</td><td></td><td>zzHm7OL0SVzW9hq1q8w5</td></tr><tr><th>20</th><td>col20</td><td></td><td>Categorical string 1</td><td></td><td>Categorical string 5</td></tr><tr><th>21</th><td>col21</td><td></td><td>001aqp64TWL8AsxnwBNi\"6gtJ764me0</td><td></td><td>zz6jAoM7jmzePpsbVcas\"u1RghoIEXl</td></tr><tr><th>22</th><td>col22</td><td>0.493521</td><td>1.03538e-5</td><td>0.496946</td><td>0.999961</td></tr><tr><th>23</th><td>col23</td><td>0.503937</td><td>0.0002</td><td>0.5067</td><td>1.0</td></tr><tr><th>24</th><td>col24</td><td>1.00765e15</td><td>-9221751487195215397</td><td>-7.05276e16</td><td>9212749643705686795</td></tr><tr><th>25</th><td>col25</td><td></td><td>1950-01-08T10:25:41</td><td></td><td>2000-12-27T02:13:04</td></tr><tr><th>26</th><td>col26</td><td></td><td>01mUOFHgszfywJNsNFxE</td><td></td><td>zzW6QuLYNjPv93pSlzMR</td></tr><tr><th>27</th><td>col27</td><td></td><td>Categorical string 1</td><td></td><td>Categorical string 5</td></tr><tr><th>28</th><td>col28</td><td></td><td>002eOSjpSOgE6KRO3DyO\"IfWkrQCd6Z</td><td></td><td>zzwnkFdIL29UTa3N4shI\"yYe5g4h2gs</td></tr><tr><th>29</th><td>col29</td><td>0.500683</td><td>0.0001075</td><td>0.495592</td><td>0.999569</td></tr><tr><th>30</th><td>col30</td><td>0.502171</td><td>0.0</td><td>0.5029</td><td>0.9999</td></tr><tr><th>&vellip;</th><td>&vellip;</td><td>&vellip;</td><td>&vellip;</td><td>&vellip;</td><td>&vellip;</td></tr></tbody></table>"
      ],
      "text/latex": [
       "\\begin{tabular}{r|cccccc}\n",
       "\t& variable & mean & min & median & max & \\\\\n",
       "\t\\hline\n",
       "\t& Symbol & Union… & Any & Union… & Any & \\\\\n",
       "\t\\hline\n",
       "\t1 & col1 & 0.504951 & 2.45087e-5 & 0.508145 & 0.999627 & $\\dots$ \\\\\n",
       "\t2 & col2 & 0.504824 & 0.0004 & 0.5117 & 0.9995 & $\\dots$ \\\\\n",
       "\t3 & col3 & 1.54429e15 & -9222739277495079109 & 7.11743e16 & 9221746770517594113 & $\\dots$ \\\\\n",
       "\t4 & col4 &  & 1950-01-02T22:38:46 &  & 2000-12-10T06:53:17 & $\\dots$ \\\\\n",
       "\t5 & col5 &  & 00VOeNeUrFI8oOIqfHin &  & zyhNFCt6GlzgwMLdwrlJ & $\\dots$ \\\\\n",
       "\t6 & col6 &  & Categorical string 1 &  & Categorical string 5 & $\\dots$ \\\\\n",
       "\t7 & col7 &  & 01AEEir015gbhP50WAmv\"Dixp7idRQb &  & zzzMocd6QksZTrYEXgMc\"8KbwLTkNDH & $\\dots$ \\\\\n",
       "\t8 & col8 & 0.49722 & 1.00435e-5 & 0.494471 & 0.99977 & $\\dots$ \\\\\n",
       "\t9 & col9 & 0.500279 & 0.0002 & 0.50215 & 0.9999 & $\\dots$ \\\\\n",
       "\t10 & col10 & -1.22871e15 & -9218269981171391739 & -1.37732e17 & 9221618083976482060 & $\\dots$ \\\\\n",
       "\t11 & col11 &  & 1950-01-02T05:49:24 &  & 2000-12-26T21:30:24 & $\\dots$ \\\\\n",
       "\t12 & col12 &  & 00wBY0khNNbNqzP46djX &  & zzfz4ap9Ht0mm9Fh2yKQ & $\\dots$ \\\\\n",
       "\t13 & col13 &  & Categorical string 1 &  & Categorical string 5 & $\\dots$ \\\\\n",
       "\t14 & col14 &  & 00E4UGpVdaacbqOUebGP\"ByZaXNMB9F &  & zzHKALPr2wsFQzE0N7Xp\"InSbw7uFIZ & $\\dots$ \\\\\n",
       "\t15 & col15 & 0.500958 & 0.000270293 & 0.49998 & 0.999881 & $\\dots$ \\\\\n",
       "\t16 & col16 & 0.491844 & 0.0001 & 0.4902 & 0.9998 & $\\dots$ \\\\\n",
       "\t17 & col17 & -1.40398e15 & -9221299628197713595 & -2.89616e16 & 9222449677491771429 & $\\dots$ \\\\\n",
       "\t18 & col18 &  & 1950-01-11T08:45:38 &  & 2000-12-25T04:56:09 & $\\dots$ \\\\\n",
       "\t19 & col19 &  & 006fVycM1n9wOhR3AngW &  & zzHm7OL0SVzW9hq1q8w5 & $\\dots$ \\\\\n",
       "\t20 & col20 &  & Categorical string 1 &  & Categorical string 5 & $\\dots$ \\\\\n",
       "\t21 & col21 &  & 001aqp64TWL8AsxnwBNi\"6gtJ764me0 &  & zz6jAoM7jmzePpsbVcas\"u1RghoIEXl & $\\dots$ \\\\\n",
       "\t22 & col22 & 0.493521 & 1.03538e-5 & 0.496946 & 0.999961 & $\\dots$ \\\\\n",
       "\t23 & col23 & 0.503937 & 0.0002 & 0.5067 & 1.0 & $\\dots$ \\\\\n",
       "\t24 & col24 & 1.00765e15 & -9221751487195215397 & -7.05276e16 & 9212749643705686795 & $\\dots$ \\\\\n",
       "\t25 & col25 &  & 1950-01-08T10:25:41 &  & 2000-12-27T02:13:04 & $\\dots$ \\\\\n",
       "\t26 & col26 &  & 01mUOFHgszfywJNsNFxE &  & zzW6QuLYNjPv93pSlzMR & $\\dots$ \\\\\n",
       "\t27 & col27 &  & Categorical string 1 &  & Categorical string 5 & $\\dots$ \\\\\n",
       "\t28 & col28 &  & 002eOSjpSOgE6KRO3DyO\"IfWkrQCd6Z &  & zzwnkFdIL29UTa3N4shI\"yYe5g4h2gs & $\\dots$ \\\\\n",
       "\t29 & col29 & 0.500683 & 0.0001075 & 0.495592 & 0.999569 & $\\dots$ \\\\\n",
       "\t30 & col30 & 0.502171 & 0.0 & 0.5029 & 0.9999 & $\\dots$ \\\\\n",
       "\t$\\dots$ & $\\dots$ & $\\dots$ & $\\dots$ & $\\dots$ & $\\dots$ &  \\\\\n",
       "\\end{tabular}\n"
      ],
      "text/plain": [
       "200×8 DataFrame. Omitted printing of 4 columns\n",
       "│ Row │ variable │ mean        │ min                             │ median      │\n",
       "│     │ \u001b[90mSymbol\u001b[39m   │ \u001b[90mUnion…\u001b[39m      │ \u001b[90mAny\u001b[39m                             │ \u001b[90mUnion…\u001b[39m      │\n",
       "├─────┼──────────┼─────────────┼─────────────────────────────────┼─────────────┤\n",
       "│ 1   │ col1     │ 0.504951    │ 2.45087e-5                      │ 0.508145    │\n",
       "│ 2   │ col2     │ 0.504824    │ 0.0004                          │ 0.5117      │\n",
       "│ 3   │ col3     │ 1.54429e15  │ -9222739277495079109            │ 7.11743e16  │\n",
       "│ 4   │ col4     │             │ 1950-01-02T22:38:46             │             │\n",
       "│ 5   │ col5     │             │ 00VOeNeUrFI8oOIqfHin            │             │\n",
       "│ 6   │ col6     │             │ Categorical string 1            │             │\n",
       "│ 7   │ col7     │             │ 01AEEir015gbhP50WAmv\"Dixp7idRQb │             │\n",
       "│ 8   │ col8     │ 0.49722     │ 1.00435e-5                      │ 0.494471    │\n",
       "│ 9   │ col9     │ 0.500279    │ 0.0002                          │ 0.50215     │\n",
       "│ 10  │ col10    │ -1.22871e15 │ -9218269981171391739            │ -1.37732e17 │\n",
       "⋮\n",
       "│ 190 │ col190   │ 0.506005    │ 0.000360831                     │ 0.506345    │\n",
       "│ 191 │ col191   │ 0.492944    │ 0.0                             │ 0.4891      │\n",
       "│ 192 │ col192   │ -1.01923e15 │ -9219257313724392196            │ -4.94808e16 │\n",
       "│ 193 │ col193   │             │ 1950-01-01T18:59:44             │             │\n",
       "│ 194 │ col194   │             │ 00ECQ0mwWlJ7mO9GNRmO            │             │\n",
       "│ 195 │ col195   │             │ Categorical string 1            │             │\n",
       "│ 196 │ col196   │             │ 00enIIya6j972pqJkbVO\"lk7ChZCQcr │             │\n",
       "│ 197 │ col197   │ 0.496989    │ 9.2775e-5                       │ 0.494926    │\n",
       "│ 198 │ col198   │ 0.495942    │ 0.0001                          │ 0.4932      │\n",
       "│ 199 │ col199   │ -6.6285e13  │ -9223141013991842126            │ 1.2259e17   │\n",
       "│ 200 │ col200   │             │ 1950-01-03T10:13:38             │             │"
      ]
     },
     "execution_count": 30,
     "metadata": {},
     "output_type": "execute_result"
    }
   ],
   "source": [
    "df = CSV.read(\"/home/dhairyagandhi96/mlds/csv-benchmarks/mixed.csv\")\n",
    "describe(df)"
   ]
  },
  {
   "cell_type": "code",
   "execution_count": 14,
   "metadata": {},
   "outputs": [
    {
     "name": "stdout",
     "output_type": "stream",
     "text": [
      "  242.538 ms (158577 allocations: 47.27 MiB)\n"
     ]
    }
   ],
   "source": [
    "@btime CSV.read(\"/home/dhairyagandhi96/mlds/csv-benchmarks/mixed.csv\", threaded = false);"
   ]
  },
  {
   "cell_type": "code",
   "execution_count": 24,
   "metadata": {},
   "outputs": [
    {
     "name": "stdout",
     "output_type": "stream",
     "text": [
      "  45.052 ms (109923 allocations: 43.29 MiB)\n"
     ]
    }
   ],
   "source": [
    "@btime CSV.read(\"/home/dhairyagandhi96/mlds/csv-benchmarks/mixed.csv\", threaded = true);"
   ]
  },
  {
   "cell_type": "code",
   "execution_count": 22,
   "metadata": {},
   "outputs": [
    {
     "name": "stdout",
     "output_type": "stream",
     "text": [
      "  337.263 ms (951256 allocations: 430.31 MiB)\n"
     ]
    }
   ],
   "source": [
    "@btime CSV.read(\"/home/dhairyagandhi96/mlds/csv-benchmarks/big_mixed.csv\", threaded = true);"
   ]
  },
  {
   "cell_type": "markdown",
   "metadata": {},
   "source": [
    "## Benchmarking Python CSV Reading - pandas"
   ]
  },
  {
   "cell_type": "code",
   "execution_count": 23,
   "metadata": {},
   "outputs": [
    {
     "name": "stdout",
     "output_type": "stream",
     "text": [
      "10 loops, best of 3: 6.36 sec per loop\n"
     ]
    },
    {
     "data": {
      "text/plain": [
       "Process(`\u001b[4mpython3\u001b[24m \u001b[4m-m\u001b[24m \u001b[4mtimeit\u001b[24m \u001b[4m-s\u001b[24m \u001b[4m'import pandas'\u001b[24m \u001b[4m-p\u001b[24m \u001b[4m\"pandas.read_csv('csv-benchmarks/big_mixed.csv')\"\u001b[24m`, ProcessExited(0))"
      ]
     },
     "execution_count": 23,
     "metadata": {},
     "output_type": "execute_result"
    }
   ],
   "source": [
    "run(`python3 -m timeit -s \"import pandas\" -p \"pandas.read_csv('csv-benchmarks/big_mixed.csv')\"`)"
   ]
  },
  {
   "cell_type": "markdown",
   "metadata": {},
   "source": [
    "## That's a speedup of about **15x** with multithreading, and about 3x without !!"
   ]
  },
  {
   "cell_type": "code",
   "execution_count": null,
   "metadata": {},
   "outputs": [],
   "source": []
  }
 ],
 "metadata": {
  "@webio": {
   "lastCommId": null,
   "lastKernelId": null
  },
  "kernelspec": {
   "display_name": "Julia1.3 (8 threads) 1.3.0",
   "language": "julia",
   "name": "julia1.3-(8-threads)-1.3"
  },
  "language_info": {
   "file_extension": ".jl",
   "mimetype": "application/julia",
   "name": "julia",
   "version": "1.3.0"
  }
 },
 "nbformat": 4,
 "nbformat_minor": 2
}
